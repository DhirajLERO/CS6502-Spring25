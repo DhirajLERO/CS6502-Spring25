{
 "cells": [
  {
   "cell_type": "markdown",
   "id": "9ab2acda-1508-4bfb-a7a3-4122288355c9",
   "metadata": {},
   "source": [
    "Connecting to the Database"
   ]
  },
  {
   "cell_type": "code",
   "execution_count": 2,
   "id": "59ce3047-ecd3-4d2f-a1f5-da98f6edc856",
   "metadata": {},
   "outputs": [],
   "source": [
    "import sqlite3\n",
    "\n",
    "# Connect to the SQLite database (or create it if it doesn't exist)\n",
    "connection = sqlite3.connect('my_database.db')"
   ]
  },
  {
   "cell_type": "markdown",
   "id": "aed79b04-576b-4d1b-b7f0-6a2409c4af03",
   "metadata": {},
   "source": [
    "Creating a cursor"
   ]
  },
  {
   "cell_type": "markdown",
   "id": "a12df20c-4419-42a0-b64b-1de81c17d377",
   "metadata": {},
   "source": [
    "Once you have a connection, the next step is to create a cursor object. The cursor is responsible for executing SQL commands and queries on the database."
   ]
  },
  {
   "cell_type": "code",
   "execution_count": 4,
   "id": "a6ad0d5a-aab2-411d-850f-e228d7694724",
   "metadata": {},
   "outputs": [],
   "source": [
    "# Create a cursor object\n",
    "cursor = connection.cursor()"
   ]
  },
  {
   "cell_type": "markdown",
   "id": "b0345f82-c905-47fd-ad1f-cb90b427ce6c",
   "metadata": {},
   "source": [
    "Closing the Connection"
   ]
  },
  {
   "cell_type": "markdown",
   "id": "4e6ba2a9-a358-4c33-a729-517c9a9b1b0e",
   "metadata": {},
   "source": [
    "After you’ve finished working with the database, it’s important to close the connection to free up any resources. You can close the connection with the following command:"
   ]
  },
  {
   "cell_type": "code",
   "execution_count": 6,
   "id": "0708a8fd-b60d-4b00-ad25-db09426ac78a",
   "metadata": {},
   "outputs": [],
   "source": [
    "# Close the database connection\n",
    "connection.close()"
   ]
  },
  {
   "cell_type": "raw",
   "id": "a7249b91-7225-4739-a875-e62ac082fcaa",
   "metadata": {},
   "source": [
    "How to Use Context Manager to Open and Close Connections\n",
    "\n",
    "Python provides a more efficient and cleaner way to handle database connections using the with statement, also known as a context manager. The with statement automatically opens and closes the connection, ensuring that the connection is properly closed even if an error occurs during the database operations. This eliminates the need to manually call connection.close().\n",
    "\n",
    "Here’s how you can use the with statement to handle database connections:"
   ]
  },
  {
   "cell_type": "code",
   "execution_count": 7,
   "id": "ddddd7f0-40e1-4e40-b4d9-1aa4d4dfb31d",
   "metadata": {},
   "outputs": [],
   "source": [
    "# Step 1: Use 'with' to connect to the database (or create one) and automatically close it when done\n",
    "with sqlite3.connect('my_database.db') as connection:\n",
    "\n",
    "    # Step 2: Create a cursor object to interact with the database\n",
    "    cursor = connection.cursor()"
   ]
  }
 ],
 "metadata": {
  "kernelspec": {
   "display_name": "Python 3 (ipykernel)",
   "language": "python",
   "name": "python3"
  },
  "language_info": {
   "codemirror_mode": {
    "name": "ipython",
    "version": 3
   },
   "file_extension": ".py",
   "mimetype": "text/x-python",
   "name": "python",
   "nbconvert_exporter": "python",
   "pygments_lexer": "ipython3",
   "version": "3.10.14"
  }
 },
 "nbformat": 4,
 "nbformat_minor": 5
}
