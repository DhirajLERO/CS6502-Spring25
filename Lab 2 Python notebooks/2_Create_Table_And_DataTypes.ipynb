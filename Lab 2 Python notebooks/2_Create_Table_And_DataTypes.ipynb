{
 "cells": [
  {
   "cell_type": "markdown",
   "id": "0d94678b-1421-42c3-8f8e-64f0e755ecbf",
   "metadata": {},
   "source": [
    "Here’s a simple SQL command to create a Students table with the following fields:\n",
    "\n",
    "id: A unique identifier for each student (an integer).\n",
    "\n",
    "name: The student's name (text).\n",
    "\n",
    "age: The student's age (an integer).\n",
    "\n",
    "email: The student's email address (text)."
   ]
  },
  {
   "cell_type": "raw",
   "id": "874dcca8-3c79-452b-b0bd-939e62f17ca9",
   "metadata": {},
   "source": [
    "The SQL command to create this table would look like this:\n",
    "\n",
    "CREATE TABLE Students (\n",
    "    id INTEGER PRIMARY KEY AUTOINCREMENT,\n",
    "    name TEXT NOT NULL,\n",
    "    age INTEGER,\n",
    "    email TEXT\n",
    ");"
   ]
  },
  {
   "cell_type": "raw",
   "id": "b482e44d-f12d-4de8-9317-7a0aba41ba00",
   "metadata": {},
   "source": [
    "We can execute this CREATE TABLE SQL command in Python using the sqlite3 library. Let’s see how to do that."
   ]
  },
  {
   "cell_type": "code",
   "execution_count": 1,
   "id": "4f750c8d-1618-4e58-8a76-06e62f898203",
   "metadata": {},
   "outputs": [
    {
     "name": "stdout",
     "output_type": "stream",
     "text": [
      "Table 'Students' created successfully!\n"
     ]
    }
   ],
   "source": [
    "import sqlite3\n",
    "\n",
    "# Use 'with' to connect to the SQLite database and automatically close the connection when done\n",
    "with sqlite3.connect('my_database.db') as connection:\n",
    "\n",
    "    # Create a cursor object\n",
    "    cursor = connection.cursor()\n",
    "\n",
    "    # Write the SQL command to create the Students table\n",
    "    create_table_query = '''\n",
    "    CREATE TABLE IF NOT EXISTS Students (\n",
    "        id INTEGER PRIMARY KEY AUTOINCREMENT,\n",
    "        name TEXT NOT NULL,\n",
    "        age INTEGER,\n",
    "        email TEXT\n",
    "    );\n",
    "    '''\n",
    "\n",
    "    # Execute the SQL command\n",
    "    cursor.execute(create_table_query)\n",
    "\n",
    "    # Commit the changes\n",
    "    connection.commit()\n",
    "\n",
    "    # Print a confirmation message\n",
    "    print(\"Table 'Students' created successfully!\")"
   ]
  },
  {
   "cell_type": "markdown",
   "id": "7d1457d4-afd3-436c-a765-7f583661955d",
   "metadata": {
    "editable": true,
    "raw_mimetype": "",
    "slideshow": {
     "slide_type": ""
    },
    "tags": []
   },
   "source": [
    "Data Types in SQLite and Their Mapping to Python\n",
    "SQLite supports several data types, which we need to understand when defining our tables. Here’s a quick overview of common SQLite data types and how they map to Python types:\n",
    "\n",
    "SQLite Data Type\tDescription\t                              Python Equivalent\n",
    "INTEGER\t            Whole numbers\t                          int\n",
    "TEXT\t            Text strings\t                          str\n",
    "REAL\t            Floating-point numbers\t                  float\n",
    "BLOB\t            Binary data (e.g., images, files)\t      bytes\n",
    "NULL\t            Represents no value or missing data\t      None\n",
    "\n",
    "\n",
    "In our Students table:\n",
    "\n",
    "id is of type INTEGER, which maps to Python’s int.\n",
    "\n",
    "name and email are of type TEXT, which map to Python’s str.\n",
    "\n",
    "age is also of type INTEGER, mapping to Python’s int."
   ]
  },
  {
   "cell_type": "code",
   "execution_count": null,
   "id": "d1a34d7b-f57d-4f37-a45c-0759f13e7e86",
   "metadata": {},
   "outputs": [],
   "source": []
  }
 ],
 "metadata": {
  "kernelspec": {
   "display_name": "Python 3 (ipykernel)",
   "language": "python",
   "name": "python3"
  },
  "language_info": {
   "codemirror_mode": {
    "name": "ipython",
    "version": 3
   },
   "file_extension": ".py",
   "mimetype": "text/x-python",
   "name": "python",
   "nbconvert_exporter": "python",
   "pygments_lexer": "ipython3",
   "version": "3.10.14"
  }
 },
 "nbformat": 4,
 "nbformat_minor": 5
}
