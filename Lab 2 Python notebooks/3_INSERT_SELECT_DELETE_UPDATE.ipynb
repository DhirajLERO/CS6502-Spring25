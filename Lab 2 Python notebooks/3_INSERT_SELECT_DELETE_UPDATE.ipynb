{
 "cells": [
  {
   "cell_type": "markdown",
   "id": "ff06c083-4de0-44d8-ba11-05e0e489e07c",
   "metadata": {},
   "source": [
    "How to Insert a Single Record\n",
    "To insert data into the database, we use the INSERT INTO SQL command. Let’s start by inserting a single record into our Students table.\n",
    "\n",
    "Here’s the basic SQL syntax for inserting a single record:\n",
    "\n",
    "### INSERT INTO Students (name, age, email) VALUES ('John Doe', 20, 'johndoe@example.com');\n",
    "\n",
    "\n",
    "However, instead of writing SQL directly in our Python script with hardcoded values, we’ll use parameterized queries to make our code more secure and flexible. Parameterized queries help prevent SQL injection, a common attack where malicious users can manipulate the SQL query by passing harmful input.\n",
    "\n",
    "### Here’s how we can insert a single record into the Students table using a parameterized query:"
   ]
  },
  {
   "cell_type": "code",
   "execution_count": 2,
   "id": "cbfe4aed-2d9f-43d9-b05e-8ae7b6055a7e",
   "metadata": {},
   "outputs": [
    {
     "name": "stdout",
     "output_type": "stream",
     "text": [
      "Record inserted successfully!\n"
     ]
    }
   ],
   "source": [
    "import sqlite3\n",
    "\n",
    "# Use 'with' to open and close the connection automatically\n",
    "with sqlite3.connect('my_database.db') as connection:\n",
    "    cursor = connection.cursor()\n",
    "\n",
    "    # Insert a record into the Students table\n",
    "    insert_query = '''\n",
    "    INSERT INTO Students (name, age, email) \n",
    "    VALUES (?, ?, ?);\n",
    "    '''\n",
    "    student_data = ('Jane Doe', 23, 'jane@example.com')\n",
    "\n",
    "    cursor.execute(insert_query, student_data)\n",
    "\n",
    "    # Commit the changes automatically\n",
    "    connection.commit()\n",
    "\n",
    "    # No need to call connection.close(); it's done automatically!\n",
    "    print(\"Record inserted successfully!\")"
   ]
  },
  {
   "cell_type": "markdown",
   "id": "6b658265-7b81-4963-bfe8-859152080983",
   "metadata": {},
   "source": [
    "# Insert Multiple Records"
   ]
  },
  {
   "cell_type": "code",
   "execution_count": 4,
   "id": "3c979a2a-6050-4ad6-8aab-944902230ef0",
   "metadata": {},
   "outputs": [
    {
     "name": "stdout",
     "output_type": "stream",
     "text": [
      "Multiple records inserted successfully!\n"
     ]
    }
   ],
   "source": [
    "# Use 'with' to open and close the connection automatically\n",
    "with sqlite3.connect('my_database.db') as connection:\n",
    "    cursor = connection.cursor()\n",
    "\n",
    "    # Insert multiple records using executemany()\n",
    "    insert_query = '''\n",
    "    INSERT INTO Students (name, age, email) \n",
    "    VALUES (?, ?, ?);\n",
    "    '''\n",
    "    \n",
    "    # List of student records\n",
    "    student_data = [\n",
    "        ('Jane Doe', 23, 'jane@example.com'),\n",
    "        ('John Smith', 21, 'john@example.com'),\n",
    "        ('Alice Brown', 22, 'alice@example.com'),\n",
    "        ('Bob Johnson', 24, 'bob@example.com')\n",
    "    ]\n",
    "\n",
    "    # Execute batch insertion\n",
    "    cursor.executemany(insert_query, student_data)\n",
    "\n",
    "    # Commit automatically due to 'with' statement\n",
    "    print(\"Multiple records inserted successfully!\")\n"
   ]
  },
  {
   "cell_type": "markdown",
   "id": "3572bf6c-c401-49a7-ba41-dded13a66467",
   "metadata": {},
   "source": [
    "# How to Query Data\n",
    "\n",
    "Now that we’ve inserted some data into our Students table, let’s learn how to retrieve the data from the table. We'll explore different methods for fetching data in Python, including fetchone(), fetchall(), and fetchmany().\n",
    "\n",
    "To query data from a table, we use the SELECT statement. Here’s a simple SQL command to select all columns from the Students table:\n",
    "\n",
    "### SELECT * FROM Students;"
   ]
  },
  {
   "cell_type": "code",
   "execution_count": 6,
   "id": "a0a33a0b-f9fd-4744-a30e-29b3e9fbced5",
   "metadata": {},
   "outputs": [
    {
     "name": "stdout",
     "output_type": "stream",
     "text": [
      "All Students:\n",
      "(1, 'Jane Doe', 23, 'jane@example.com')\n",
      "(2, 'Jane Doe', 23, 'jane@example.com')\n",
      "(3, 'John Smith', 21, 'john@example.com')\n",
      "(4, 'Alice Brown', 22, 'alice@example.com')\n",
      "(5, 'Bob Johnson', 24, 'bob@example.com')\n"
     ]
    }
   ],
   "source": [
    "# Use 'with' to connect to the SQLite database\n",
    "with sqlite3.connect('my_database.db') as connection:\n",
    "\n",
    "    # Create a cursor object\n",
    "    cursor = connection.cursor()\n",
    "\n",
    "    # Write the SQL command to select all records from the Students table\n",
    "    select_query = \"SELECT * FROM Students;\"\n",
    "\n",
    "    # Execute the SQL command\n",
    "    cursor.execute(select_query)\n",
    "\n",
    "    # Fetch all records\n",
    "    all_students = cursor.fetchall()\n",
    "\n",
    "    # Display results in the terminal\n",
    "    print(\"All Students:\")\n",
    "    for student in all_students:\n",
    "        print(student)"
   ]
  },
  {
   "cell_type": "code",
   "execution_count": 13,
   "id": "45f290a1-3249-432f-8832-adb120269a87",
   "metadata": {},
   "outputs": [],
   "source": [
    "# Fetch one record\n",
    "\n",
    "### student = cursor.fetchone()\n"
   ]
  },
  {
   "cell_type": "code",
   "execution_count": null,
   "id": "eaffef14-68f5-43f0-ba92-30c4476ca80e",
   "metadata": {},
   "outputs": [],
   "source": [
    "# Fetch three records\n",
    "### three_students = cursor.fetchmany(3)\n"
   ]
  },
  {
   "cell_type": "code",
   "execution_count": 12,
   "id": "1c312600-8522-4388-80d8-3dd3dcf728f8",
   "metadata": {},
   "outputs": [],
   "source": [
    "# Challenge 1\n",
    "\n",
    "### Fetch only one record from the Student table\n",
    "\n",
    "## Challenge 2\n",
    "\n",
    "### Fetch 4 records from the Student table\n",
    "\n"
   ]
  },
  {
   "cell_type": "markdown",
   "id": "a509a293-32d1-475f-8a2a-98b3c312f271",
   "metadata": {},
   "source": [
    "# How to Use pandas for Better Data Presentation\n",
    "For better data presentation, we can use the pandas library to create a DataFrame from our query results. This makes it easier to manipulate and visualize the data.\n",
    "\n"
   ]
  },
  {
   "cell_type": "code",
   "execution_count": 8,
   "id": "3d6c7924-3ff4-44d9-9bd6-68006a3ca470",
   "metadata": {},
   "outputs": [
    {
     "name": "stdout",
     "output_type": "stream",
     "text": [
      "All Students as DataFrame:\n",
      "   id         name  age              email\n",
      "0   1     Jane Doe   23   jane@example.com\n",
      "1   2     Jane Doe   23   jane@example.com\n",
      "2   3   John Smith   21   john@example.com\n",
      "3   4  Alice Brown   22  alice@example.com\n",
      "4   5  Bob Johnson   24    bob@example.com\n"
     ]
    }
   ],
   "source": [
    "import pandas as pd\n",
    "\n",
    "# Use 'with' to connect to the SQLite database\n",
    "with sqlite3.connect('my_database.db') as connection:\n",
    "    # Write the SQL command to select all records from the Students table\n",
    "    select_query = \"SELECT * FROM Students;\"\n",
    "\n",
    "    # Use pandas to read SQL query directly into a DataFrame\n",
    "    df = pd.read_sql_query(select_query, connection)\n",
    "\n",
    "# Display the DataFrame\n",
    "print(\"All Students as DataFrame:\")\n",
    "print(df)"
   ]
  },
  {
   "cell_type": "markdown",
   "id": "4ee9e851-ba4a-4e4d-a677-fbf4aaa2b5e6",
   "metadata": {},
   "source": [
    "# Updating Existing Records\n",
    "\n",
    "To modify existing records in a database, we use the SQL UPDATE command. This command allows us to change the values of specific columns in one or more rows based on a specified condition.\n",
    "\n",
    "For example, if we want to update a student's age, the SQL command would look like this:\n",
    "\n",
    "### UPDATE Students SET age = 21 WHERE name = 'Jane Doe';"
   ]
  },
  {
   "cell_type": "code",
   "execution_count": 9,
   "id": "7b42bf30-a226-40ef-8f98-ff5dd4def3ef",
   "metadata": {},
   "outputs": [
    {
     "name": "stdout",
     "output_type": "stream",
     "text": [
      "Updated age for Jane Doe to 21.\n"
     ]
    }
   ],
   "source": [
    "# Use 'with' to connect to the SQLite database\n",
    "with sqlite3.connect('my_database.db') as connection:\n",
    "    cursor = connection.cursor()\n",
    "\n",
    "    # SQL command to update a student's age\n",
    "    update_query = '''\n",
    "    UPDATE Students \n",
    "    SET age = ? \n",
    "    WHERE name = ?;\n",
    "    '''\n",
    "\n",
    "    # Data for the update\n",
    "    new_age = 21\n",
    "    student_name = 'Jane Doe'\n",
    "\n",
    "    # Execute the SQL command with the data\n",
    "    cursor.execute(update_query, (new_age, student_name))\n",
    "\n",
    "    # Commit the changes to save the update\n",
    "    connection.commit()\n",
    "\n",
    "    # Print a confirmation message\n",
    "    print(f\"Updated age for {student_name} to {new_age}.\")"
   ]
  },
  {
   "cell_type": "markdown",
   "id": "0070a26e-a70c-4487-9784-e8d6badcf9a3",
   "metadata": {},
   "source": [
    "# How to Delete Records from the Table\n",
    "\n",
    "To remove records from a database, we use the SQL DELETE command. This command allows us to delete one or more rows based on a specified condition.\n",
    "\n",
    "For example, if we want to delete a student named 'Jane Doe', the SQL command would look like this:\n",
    "\n",
    "### DELETE FROM Students WHERE name = 'Jane Doe';"
   ]
  },
  {
   "cell_type": "code",
   "execution_count": 10,
   "id": "1e9f20ac-f17b-4c90-a789-8c3aab8cd932",
   "metadata": {},
   "outputs": [
    {
     "name": "stdout",
     "output_type": "stream",
     "text": [
      "Deleted student record for Jane Doe.\n"
     ]
    }
   ],
   "source": [
    "# Use 'with' to connect to the SQLite database\n",
    "with sqlite3.connect('my_database.db') as connection:\n",
    "    cursor = connection.cursor()\n",
    "\n",
    "    # SQL command to delete a student\n",
    "    delete_query = '''\n",
    "    DELETE FROM Students \n",
    "    WHERE name = ?;\n",
    "    '''\n",
    "\n",
    "    # Name of the student to be deleted\n",
    "    student_name = 'Jane Doe'\n",
    "\n",
    "    # Execute the SQL command with the data\n",
    "    cursor.execute(delete_query, (student_name,))\n",
    "\n",
    "    # Commit the changes to save the deletion\n",
    "    connection.commit()\n",
    "\n",
    "    # Print a confirmation message\n",
    "    print(f\"Deleted student record for {student_name}.\")"
   ]
  },
  {
   "cell_type": "code",
   "execution_count": 11,
   "id": "916e0deb-f616-4a9b-8b82-e952335e3ee7",
   "metadata": {},
   "outputs": [],
   "source": [
    "# Challenge\n",
    "\n",
    "### Fetch all students and check that the record has been deleted or not"
   ]
  },
  {
   "cell_type": "code",
   "execution_count": null,
   "id": "f9a9f693-fa91-4d72-baa6-1107b0881503",
   "metadata": {},
   "outputs": [],
   "source": []
  }
 ],
 "metadata": {
  "kernelspec": {
   "display_name": "Python 3 (ipykernel)",
   "language": "python",
   "name": "python3"
  },
  "language_info": {
   "codemirror_mode": {
    "name": "ipython",
    "version": 3
   },
   "file_extension": ".py",
   "mimetype": "text/x-python",
   "name": "python",
   "nbconvert_exporter": "python",
   "pygments_lexer": "ipython3",
   "version": "3.10.14"
  }
 },
 "nbformat": 4,
 "nbformat_minor": 5
}
