{
 "cells": [
  {
   "cell_type": "markdown",
   "id": "4ca9f96a-a7e8-4ba5-9328-5a3385aba018",
   "metadata": {},
   "source": [
    "# Where"
   ]
  },
  {
   "cell_type": "code",
   "execution_count": 4,
   "id": "82e49c10-8228-4caf-9ffe-27cfb1652d13",
   "metadata": {},
   "outputs": [
    {
     "name": "stdout",
     "output_type": "stream",
     "text": [
      "All Students:\n",
      "(3, 'John Smith', 21, 'john@example.com')\n"
     ]
    }
   ],
   "source": [
    "import sqlite3\n",
    "with sqlite3.connect('my_database.db') as connection:\n",
    "\n",
    "    # Create a cursor object\n",
    "    cursor = connection.cursor()\n",
    "\n",
    "    # Write the SQL command to select all records from the Students table\n",
    "    select_query = \"SELECT * FROM Students Where age = 21;\"\n",
    "\n",
    "    # Execute the SQL command\n",
    "    cursor.execute(select_query)\n",
    "\n",
    "    # Fetch all records\n",
    "    all_students = cursor.fetchall()\n",
    "\n",
    "    # Display results in the terminal\n",
    "    print(\"All Students:\")\n",
    "    for student in all_students:\n",
    "        print(student)"
   ]
  },
  {
   "cell_type": "code",
   "execution_count": 5,
   "id": "bfa6940a-0fa6-4f45-bb20-7793f4be9c4b",
   "metadata": {},
   "outputs": [
    {
     "name": "stdout",
     "output_type": "stream",
     "text": [
      "All Students:\n",
      "(3, 'John Smith', 21, 'john@example.com')\n"
     ]
    }
   ],
   "source": [
    "with sqlite3.connect('my_database.db') as connection:\n",
    "\n",
    "    # Create a cursor object\n",
    "    cursor = connection.cursor()\n",
    "\n",
    "    # Write the SQL command to select all records from the Students table\n",
    "    select_query = \"SELECT * FROM Students Where name = 'John Smith';\"\n",
    "\n",
    "    # Execute the SQL command\n",
    "    cursor.execute(select_query)\n",
    "\n",
    "    # Fetch all records\n",
    "    all_students = cursor.fetchall()\n",
    "\n",
    "    # Display results in the terminal\n",
    "    print(\"All Students:\")\n",
    "    for student in all_students:\n",
    "        print(student)"
   ]
  },
  {
   "cell_type": "markdown",
   "id": "9168e080-1550-4214-bb06-00013ae608f4",
   "metadata": {},
   "source": [
    "# Primary Key (PK)\n",
    "\n",
    "A unique identifier for each record in a table.\n",
    "\n",
    "Ensures no duplicate values and no NULL values.\n",
    "\n",
    "Each table can have only one primary key (can be a single column or a combination of multiple columns).\n",
    "\n",
    "Used for fast lookups and indexing.\n",
    "\n",
    "# Foreign Key (FK)\n",
    "A column that references the primary key of another table.\n",
    "\n",
    "Ensures referential integrity (data in the foreign key column must exist in the referenced table).\n",
    "\n",
    "Helps establish relationships between tables.\n",
    "\n",
    "A table can have multiple foreign keys."
   ]
  },
  {
   "cell_type": "markdown",
   "id": "2a2958f7-d369-4fe4-8ca6-8cfe57b124e1",
   "metadata": {},
   "source": [
    "# Create New Database\n",
    "### Create two tables to execuet JOIN"
   ]
  },
  {
   "cell_type": "code",
   "execution_count": 26,
   "id": "e2f845b5-a968-46c0-9624-37b4b6656acf",
   "metadata": {},
   "outputs": [
    {
     "name": "stdout",
     "output_type": "stream",
     "text": [
      "Table 'Module' created successfully!\n"
     ]
    }
   ],
   "source": [
    "# Use 'with' to connect to the SQLite database and automatically close the connection when done\n",
    "with sqlite3.connect('Students_Records.db') as connection:\n",
    "\n",
    "    # Create a cursor object\n",
    "    cursor = connection.cursor()\n",
    "\n",
    "    # Write the SQL command to create the Students table\n",
    "    create_table_query = '''\n",
    "    CREATE TABLE IF NOT EXISTS Module (\n",
    "        ModuleID INTEGER PRIMARY KEY AUTOINCREMENT,\n",
    "        ModuleName TEXT NOT NULL,\n",
    "        age INTEGER,\n",
    "        email TEXT\n",
    "    );\n",
    "    '''\n",
    "\n",
    "    # Execute the SQL command\n",
    "    cursor.execute(create_table_query)\n",
    "\n",
    "    # Commit the changes\n",
    "    connection.commit()\n",
    "\n",
    "    # Print a confirmation message\n",
    "    print(\"Table 'Module' created successfully!\")"
   ]
  },
  {
   "cell_type": "code",
   "execution_count": 27,
   "id": "2b3e24ac-a3e2-4ccb-8c4e-db838c442dd3",
   "metadata": {},
   "outputs": [
    {
     "name": "stdout",
     "output_type": "stream",
     "text": [
      "Table 'Students' created successfully!\n"
     ]
    }
   ],
   "source": [
    "# Use 'with' to connect to the SQLite database and automatically close the connection when done\n",
    "with sqlite3.connect('Students_Modules.db') as connection:\n",
    "\n",
    "    # Create a cursor object\n",
    "    cursor = connection.cursor()\n",
    "\n",
    "    # Write the SQL command to create the Students table\n",
    "    create_table_query = '''\n",
    "    CREATE TABLE IF NOT EXISTS Students (\n",
    "        StudentID INTEGER PRIMARY KEY AUTOINCREMENT,\n",
    "        StudentName TEXT NOT NULL, \n",
    "        ModuleID INTEGER, \n",
    "        FOREIGN KEY(ModuleID) REFERENCES Module(ModuleID)\n",
    "    );\n",
    "    '''\n",
    "\n",
    "    # Execute the SQL command\n",
    "    cursor.execute(create_table_query)\n",
    "\n",
    "    # Commit the changes\n",
    "    connection.commit()\n",
    "\n",
    "    # Print a confirmation message\n",
    "    print(\"Table 'Students' created successfully!\")"
   ]
  },
  {
   "cell_type": "code",
   "execution_count": 28,
   "id": "49ff33d6-7f0d-4256-9889-47ff7bb60031",
   "metadata": {},
   "outputs": [],
   "source": [
    "with sqlite3.connect('Students_Modules.db') as connection:\n",
    "    cursor = connection.cursor()\n",
    "\n",
    "    # Insert multiple records using executemany()\n",
    "    cursor.executescript(''' \n",
    "    INSERT INTO Module(ModuleName) VALUES \n",
    "    (\"Computer Fundamentals\"), \n",
    "    (\"Calculus\"), \n",
    "    (\"Web Development\"), \n",
    "    (\"Machine Learning\"), \n",
    "    (\"Databases\"); \n",
    "    \n",
    "    INSERT INTO Students(StudentName, ModuleID) VALUES \n",
    "    (\"Student1\",1), \n",
    "    (\"Student1\",1), \n",
    "    (\"Student1\",3), \n",
    "    (\"Student1\",2), \n",
    "    (\"Student1\",4), \n",
    "    (\"Student1\",2), \n",
    "    (\"Student1\",2), \n",
    "    (\"Student1\",3), \n",
    "    (\"Student1\",1), \n",
    "    (\"Student1\",1); \n",
    "    ''')\n"
   ]
  },
  {
   "cell_type": "code",
   "execution_count": 29,
   "id": "f8eeda53-12d6-432c-94c3-dfa6ad7e639b",
   "metadata": {},
   "outputs": [
    {
     "name": "stdout",
     "output_type": "stream",
     "text": [
      "(1, 'Student1', 'Computer Fundamentals')\n",
      "(2, 'Student1', 'Computer Fundamentals')\n",
      "(3, 'Student1', 'Web Development')\n",
      "(4, 'Student1', 'Calculus')\n",
      "(5, 'Student1', 'Machine Learning')\n",
      "(6, 'Student1', 'Calculus')\n",
      "(7, 'Student1', 'Calculus')\n",
      "(8, 'Student1', 'Web Development')\n",
      "(9, 'Student1', 'Computer Fundamentals')\n",
      "(10, 'Student1', 'Computer Fundamentals')\n"
     ]
    }
   ],
   "source": [
    "with sqlite3.connect('Students_Modules.db') as connection:\n",
    "    cursor = connection.cursor()\n",
    "    # Query for INNER JOIN \n",
    "    sql = '''SELECT StudentID, StudentName, ModuleName  \n",
    "    FROM Students  \n",
    "    INNER JOIN Module \n",
    "    ON Students.ModuleID = Module.ModuleID;'''\n",
    "      \n",
    "    # Executing the query \n",
    "    cursor.execute(sql) \n",
    "      \n",
    "    # Fetching rows from the result table \n",
    "    result = cursor.fetchall() \n",
    "    for row in result: \n",
    "        print(row) "
   ]
  },
  {
   "cell_type": "code",
   "execution_count": null,
   "id": "987c88da-3fae-434b-a112-f1ca00df9d0f",
   "metadata": {},
   "outputs": [],
   "source": []
  }
 ],
 "metadata": {
  "kernelspec": {
   "display_name": "Python 3 (ipykernel)",
   "language": "python",
   "name": "python3"
  },
  "language_info": {
   "codemirror_mode": {
    "name": "ipython",
    "version": 3
   },
   "file_extension": ".py",
   "mimetype": "text/x-python",
   "name": "python",
   "nbconvert_exporter": "python",
   "pygments_lexer": "ipython3",
   "version": "3.10.14"
  }
 },
 "nbformat": 4,
 "nbformat_minor": 5
}
